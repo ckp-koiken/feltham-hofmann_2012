{
 "cells": [
  {
   "cell_type": "code",
   "execution_count": 1,
   "metadata": {},
   "outputs": [
    {
     "name": "stdout",
     "output_type": "stream",
     "text": [
      "ねんむい\n"
     ]
    }
   ],
   "source": [
    "print('ねんむい')"
   ]
  },
  {
   "cell_type": "code",
   "execution_count": 2,
   "metadata": {},
   "outputs": [],
   "source": [
    "from sympy import *\n",
    "init_printing()\n",
    "from sympy.stats import *"
   ]
  },
  {
   "cell_type": "markdown",
   "metadata": {},
   "source": [
    "# The model"
   ]
  },
  {
   "cell_type": "markdown",
   "metadata": {},
   "source": [
    "## Model description"
   ]
  },
  {
   "cell_type": "code",
   "execution_count": 15,
   "metadata": {},
   "outputs": [
    {
     "data": {
      "image/png": "[encoded data removed]",
      "text/latex": [
       "$$\\left [ \\frac{a_{1}^{2}}{2}, \\quad \\frac{a_{2}^{2}}{2}\\right ]$$"
      ],
      "text/plain": [
       "⎡  2    2⎤\n",
       "⎢a₁   a₂ ⎥\n",
       "⎢───, ───⎥\n",
       "⎣ 2    2 ⎦"
      ]
     },
     "execution_count": 15,
     "metadata": {},
     "output_type": "execute_result"
    }
   ],
   "source": [
    "j = Symbol('j')\n",
    "a1 = Symbol('a_1')\n",
    "a2 = Symbol('a_2')\n",
    "aj = Symbol('a_j')\n",
    "k = Lambda([aj], Rational(1, 2) * (aj ** 2))\n",
    "[k(a1), k(a2)]"
   ]
  },
  {
   "cell_type": "code",
   "execution_count": 18,
   "metadata": {},
   "outputs": [
    {
     "data": {
      "image/png": "[encoded data removed]",
      "text/latex": [
       "$$\\left [ a_{1} m + \\varepsilon_{1}, \\quad a_{2} m + \\varepsilon_{2}, \\quad a_{1} m, \\quad a_{2} m\\right ]$$"
      ],
      "text/plain": [
       "[a₁⋅m + varepsilon₁, a₂⋅m + varepsilon₂, a₁⋅m, a₂⋅m]"
      ]
     },
     "execution_count": 18,
     "metadata": {},
     "output_type": "execute_result"
    }
   ],
   "source": [
    "m = Symbol('m')\n",
    "# sigma = symbol('sigma', positive = True)\n",
    "eps1 = Normal('varepsilon_1', 0, 1)\n",
    "eps2 = Normal('varepsilon_2', 0, 1)\n",
    "y1 = m*a1 + eps1\n",
    "y2 = m*a2 + eps2\n",
    "rho = Symbol('rho')\n",
    "\n",
    "[y1, y2, E(y1), E(y2)]"
   ]
  },
  {
   "cell_type": "code",
   "execution_count": 19,
   "metadata": {},
   "outputs": [
    {
     "data": {
      "image/png": "[encoded data removed]",
      "text/latex": [
       "$$\\left [ f_{1} + v_{11} \\left(a_{1} m + \\varepsilon_{1}\\right) + v_{12} \\left(a_{2} m + \\varepsilon_{2}\\right), \\quad f_{2} + v_{21} \\left(a_{1} m + \\varepsilon_{1}\\right) + v_{22} \\left(a_{2} m + \\varepsilon_{2}\\right), \\quad a_{1} m v_{11} + a_{2} m v_{12} + f_{1}, \\quad a_{1} m v_{21} + a_{2} m v_{22} + f_{2}\\right ]$$"
      ],
      "text/plain": [
       "[f₁ + v_{11}⋅(a₁⋅m + varepsilon₁) + v_{12}⋅(a₂⋅m + varepsilon₂), f₂ + v_{21}⋅(\n",
       "a₁⋅m + varepsilon₁) + v_{22}⋅(a₂⋅m + varepsilon₂), a₁⋅m⋅v_{11} + a₂⋅m⋅v_{12} +\n",
       " f₁, a₁⋅m⋅v_{21} + a₂⋅m⋅v_{22} + f₂]"
      ]
     },
     "execution_count": 19,
     "metadata": {},
     "output_type": "execute_result"
    }
   ],
   "source": [
    "f1 = Symbol('f_1')\n",
    "f2 = Symbol('f_2')\n",
    "v11 = Symbol('v_{11}')\n",
    "v12 = Symbol('v_{12}')\n",
    "v21 = Symbol('v_{21}')\n",
    "v22 = Symbol('v_{22}')\n",
    "\n",
    "w1 = f1 + v11*y1 + v12*y2\n",
    "w2 = f2 + v21*y1 + v22*y2\n",
    "\n",
    "[w1, w2, E(w1), E(w2)]"
   ]
  },
  {
   "cell_type": "code",
   "execution_count": 22,
   "metadata": {},
   "outputs": [
    {
     "data": {
      "image/png": "[encoded data removed]",
      "text/latex": [
       "$$- \\frac{a_{1}^{2}}{2} + a_{1} m v_{11} + a_{1} m v_{21} - \\frac{a_{2}^{2}}{2} + a_{2} m v_{12} + a_{2} m v_{22} + f_{1} + f_{2} - \\frac{r \\left(v_{11}^{2} + v_{12}^{2} + v_{21}^{2} + v_{22}^{2}\\right)}{2}$$"
      ],
      "text/plain": [
       "    2                                 2                                       \n",
       "  a₁                                a₂                                        \n",
       "- ─── + a₁⋅m⋅v_{11} + a₁⋅m⋅v_{21} - ─── + a₂⋅m⋅v_{12} + a₂⋅m⋅v_{22} + f₁ + f₂ \n",
       "   2                                 2                                        \n",
       "\n",
       "    ⎛      2         2         2         2⎞\n",
       "  r⋅⎝v_{11}  + v_{12}  + v_{21}  + v_{22} ⎠\n",
       "- ─────────────────────────────────────────\n",
       "                      2                    "
      ]
     },
     "execution_count": 22,
     "metadata": {},
     "output_type": "execute_result"
    }
   ],
   "source": [
    "r = Symbol('r')\n",
    "CE = E(w1) + E(w2) - k(a1) - k(a2) - Rational(1, 2)*r*(variance(w1) + variance(w2))\n",
    "CE"
   ]
  },
  {
   "cell_type": "code",
   "execution_count": 23,
   "metadata": {},
   "outputs": [
    {
     "name": "stdout",
     "output_type": "stream",
     "text": [
      "オッ\n"
     ]
    }
   ],
   "source": [
    "print('オッ')"
   ]
  },
  {
   "cell_type": "markdown",
   "metadata": {},
   "source": [
    "## Optinal linear contracts with global reporting and full commitment"
   ]
  },
  {
   "cell_type": "code",
   "execution_count": null,
   "metadata": {},
   "outputs": [],
   "source": []
  }
 ],
 "metadata": {
  "kernelspec": {
   "display_name": "Python 3",
   "language": "python",
   "name": "python3"
  },
  "language_info": {
   "codemirror_mode": {
    "name": "ipython",
    "version": 3
   },
   "file_extension": ".py",
   "mimetype": "text/x-python",
   "name": "python",
   "nbconvert_exporter": "python",
   "pygments_lexer": "ipython3",
   "version": "3.7.3"
  }
 },
 "nbformat": 4,
 "nbformat_minor": 4
}
