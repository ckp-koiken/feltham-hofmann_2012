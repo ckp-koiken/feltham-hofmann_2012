{
 "cells": [
  {
   "cell_type": "code",
   "execution_count": 1,
   "metadata": {},
   "outputs": [
    {
     "name": "stdout",
     "output_type": "stream",
     "text": [
      "ねんむい\n"
     ]
    }
   ],
   "source": [
    "print('ねんむい')"
   ]
  },
  {
   "cell_type": "code",
   "execution_count": 2,
   "metadata": {},
   "outputs": [],
   "source": [
    "from sympy import *\n",
    "init_printing(use_latex='mathjax') # windowsはカッコ内のmathjax指定必須\n",
    "from sympy.stats import *"
   ]
  },
  {
   "cell_type": "markdown",
   "metadata": {},
   "source": [
    "# The model"
   ]
  },
  {
   "cell_type": "markdown",
   "metadata": {},
   "source": [
    "## Model description\n",
    "* 1期間\n",
    "* リスク中立的なプリンシパル\n",
    "* 2人のリスク回避的なエージェント\n",
    " * 各エージェントは1つのタスクを行う\n",
    " * エージェントの行動はもうひとりのエージェントやプリンシパルからは観察できない"
   ]
  },
  {
   "cell_type": "code",
   "execution_count": 3,
   "metadata": {},
   "outputs": [
    {
     "data": {
      "text/latex": [
       "$\\displaystyle \\left[ \\frac{a_{1}^{2}}{2}, \\  \\frac{a_{2}^{2}}{2}\\right]$"
      ],
      "text/plain": [
       "⎡  2    2⎤\n",
       "⎢a₁   a₂ ⎥\n",
       "⎢───, ───⎥\n",
       "⎣ 2    2 ⎦"
      ]
     },
     "execution_count": 3,
     "metadata": {},
     "output_type": "execute_result"
    }
   ],
   "source": [
    "a1 = Symbol('a_1')\n",
    "a2 = Symbol('a_2')\n",
    "aj = Symbol('a_j')\n",
    "k = Lambda([aj], Rational(1, 2) * (aj ** 2))\n",
    "[k(a1), k(a2)]"
   ]
  },
  {
   "cell_type": "code",
   "execution_count": 4,
   "metadata": {},
   "outputs": [
    {
     "data": {
      "text/latex": [
       "$\\displaystyle \\left[ a_{1} m + \\varepsilon_{1}, \\  a_{2} m + \\varepsilon_{2}, \\  a_{1} m, \\  a_{2} m, \\  a_{1} + a_{2}\\right]$"
      ],
      "text/plain": [
       "[a₁⋅m + varepsilon₁, a₂⋅m + varepsilon₂, a₁⋅m, a₂⋅m, a₁ + a₂]"
      ]
     },
     "execution_count": 4,
     "metadata": {},
     "output_type": "execute_result"
    }
   ],
   "source": [
    "m = Symbol('m')\n",
    "eps1 = Normal('varepsilon_1', 0, 1)\n",
    "eps2 = Normal('varepsilon_2', 0, 1)\n",
    "y1 = m*a1 + eps1\n",
    "y2 = m*a2 + eps2\n",
    "rho = Symbol('rho')\n",
    "\n",
    "x = a1 + a2\n",
    "\n",
    "[y1, y2, E(y1), E(y2), x]"
   ]
  },
  {
   "cell_type": "code",
   "execution_count": 5,
   "metadata": {},
   "outputs": [
    {
     "data": {
      "text/latex": [
       "$\\displaystyle \\left[ f_{1} + v_{11} \\left(a_{1} m + \\varepsilon_{1}\\right) + v_{12} \\left(a_{2} m + \\varepsilon_{2}\\right), \\  f_{2} + v_{21} \\left(a_{1} m + \\varepsilon_{1}\\right) + v_{22} \\left(a_{2} m + \\varepsilon_{2}\\right), \\  a_{1} m v_{11} + a_{2} m v_{12} + f_{1}, \\  a_{1} m v_{21} + a_{2} m v_{22} + f_{2}\\right]$"
      ],
      "text/plain": [
       "[f₁ + v_{11}⋅(a₁⋅m + varepsilon₁) + v_{12}⋅(a₂⋅m + varepsilon₂), f₂ + v_{21}⋅(\n",
       "a₁⋅m + varepsilon₁) + v_{22}⋅(a₂⋅m + varepsilon₂), a₁⋅m⋅v_{11} + a₂⋅m⋅v_{12} +\n",
       " f₁, a₁⋅m⋅v_{21} + a₂⋅m⋅v_{22} + f₂]"
      ]
     },
     "execution_count": 5,
     "metadata": {},
     "output_type": "execute_result"
    }
   ],
   "source": [
    "f1 = Symbol('f_1') \n",
    "f2 = Symbol('f_2')\n",
    "v11 = Symbol('v_{11}')\n",
    "v12 = Symbol('v_{12}')\n",
    "v21 = Symbol('v_{21}')\n",
    "v22 = Symbol('v_{22}')\n",
    "\n",
    "c1 = f1 + v11*y1 + v12*y2\n",
    "c2 = f2 + v21*y1 + v22*y2\n",
    "\n",
    "[c1, c2, E(c1), E(c2)]"
   ]
  },
  {
   "cell_type": "code",
   "execution_count": 6,
   "metadata": {},
   "outputs": [
    {
     "data": {
      "text/latex": [
       "$\\displaystyle \\left[ - \\frac{a_{1}^{2}}{2} + a_{1} m v_{11} + a_{2} m v_{12} + f_{1} - \\frac{r \\left(v_{11}^{2} + v_{12}^{2}\\right)}{2}, \\  a_{1} m v_{21} - \\frac{a_{2}^{2}}{2} + a_{2} m v_{22} + f_{2} - \\frac{r \\left(v_{21}^{2} + v_{22}^{2}\\right)}{2}\\right]$"
      ],
      "text/plain": [
       "⎡    2                                      ⎛      2         2⎞               \n",
       "⎢  a₁                                     r⋅⎝v_{11}  + v_{12} ⎠               \n",
       "⎢- ─── + a₁⋅m⋅v_{11} + a₂⋅m⋅v_{12} + f₁ - ─────────────────────, a₁⋅m⋅v_{21} -\n",
       "⎣   2                                               2                         \n",
       "\n",
       "   2                        ⎛      2         2⎞⎤\n",
       " a₂                       r⋅⎝v_{21}  + v_{22} ⎠⎥\n",
       " ─── + a₂⋅m⋅v_{22} + f₂ - ─────────────────────⎥\n",
       "  2                                 2          ⎦"
      ]
     },
     "execution_count": 6,
     "metadata": {},
     "output_type": "execute_result"
    }
   ],
   "source": [
    "r = Symbol('r')\n",
    "CE1 = E(c1) - k(a1) - Rational(1, 2)*r*variance(c1)\n",
    "CE2 = E(c2) - k(a2) - Rational(1, 2)*r*variance(c2)\n",
    "[CE1, CE2]"
   ]
  },
  {
   "cell_type": "code",
   "execution_count": null,
   "metadata": {},
   "outputs": [],
   "source": []
  },
  {
   "cell_type": "markdown",
   "metadata": {},
   "source": [
    "## Optinal linear contracts with global reporting and full commitment"
   ]
  },
  {
   "cell_type": "code",
   "execution_count": 7,
   "metadata": {},
   "outputs": [
    {
     "data": {
      "text/latex": [
       "$\\displaystyle \\left[ m v_{11}, \\  m v_{22}\\right]$"
      ],
      "text/plain": [
       "[m⋅v_{11}, m⋅v_{22}]"
      ]
     },
     "execution_count": 7,
     "metadata": {},
     "output_type": "execute_result"
    }
   ],
   "source": [
    "aj1 = solve(CE1.diff(a1), a1)[0]\n",
    "aj2 = solve(CE2.diff(a2), a2)[0]\n",
    "[aj1, aj2]"
   ]
  },
  {
   "cell_type": "code",
   "execution_count": 8,
   "metadata": {},
   "outputs": [
    {
     "data": {
      "text/latex": [
       "$\\displaystyle \\left[ a_{2} m v_{12} + f_{1} + \\frac{m^{2} v_{11}^{2}}{2} - \\frac{r \\left(v_{11}^{2} + v_{12}^{2}\\right)}{2}, \\  a_{1} m v_{21} + f_{2} + \\frac{m^{2} v_{22}^{2}}{2} - \\frac{r \\left(v_{21}^{2} + v_{22}^{2}\\right)}{2}\\right]$"
      ],
      "text/plain": [
       "⎡                    2       2     ⎛      2         2⎞                      2 \n",
       "⎢                   m ⋅v_{11}    r⋅⎝v_{11}  + v_{12} ⎠                     m ⋅\n",
       "⎢a₂⋅m⋅v_{12} + f₁ + ────────── - ─────────────────────, a₁⋅m⋅v_{21} + f₂ + ───\n",
       "⎣                       2                  2                                  \n",
       "\n",
       "      2     ⎛      2         2⎞⎤\n",
       "v_{22}    r⋅⎝v_{21}  + v_{22} ⎠⎥\n",
       "─────── - ─────────────────────⎥\n",
       " 2                  2          ⎦"
      ]
     },
     "execution_count": 8,
     "metadata": {},
     "output_type": "execute_result"
    }
   ],
   "source": [
    "CE10 = CE1.subs([(a1, aj1)])\n",
    "CE20 = CE2.subs([(a2, aj2)])\n",
    "# rhoをどうしよう\n",
    "\n",
    "[CE10, CE20]"
   ]
  },
  {
   "cell_type": "code",
   "execution_count": 9,
   "metadata": {},
   "outputs": [
    {
     "data": {
      "text/latex": [
       "$\\displaystyle - a_{1} m v_{11} - a_{1} m v_{21} + a_{1} - a_{2} m v_{12} - a_{2} m v_{22} + a_{2} - f_{1} - f_{2}$"
      ],
      "text/plain": [
       "-a₁⋅m⋅v_{11} - a₁⋅m⋅v_{21} + a₁ - a₂⋅m⋅v_{12} - a₂⋅m⋅v_{22} + a₂ - f₁ - f₂"
      ]
     },
     "execution_count": 9,
     "metadata": {},
     "output_type": "execute_result"
    }
   ],
   "source": [
    "Pi = E(x - (c1 + c2))\n",
    "Pi"
   ]
  },
  {
   "cell_type": "code",
   "execution_count": 10,
   "metadata": {},
   "outputs": [
    {
     "data": {
      "text/latex": [
       "$\\displaystyle \\left[ \\left[ - a_{2} m v_{12} - \\frac{m^{2} v_{11}^{2}}{2} + \\frac{r v_{11}^{2}}{2} + \\frac{r v_{12}^{2}}{2}\\right], \\  \\left[ - a_{1} m v_{21} - \\frac{m^{2} v_{22}^{2}}{2} + \\frac{r v_{21}^{2}}{2} + \\frac{r v_{22}^{2}}{2}\\right]\\right]$"
      ],
      "text/plain": [
       "⎡⎡                2       2           2           2⎤  ⎡                2      \n",
       "⎢⎢               m ⋅v_{11}    r⋅v_{11}    r⋅v_{12} ⎥  ⎢               m ⋅v_{22\n",
       "⎢⎢-a₂⋅m⋅v_{12} - ────────── + ───────── + ─────────⎥, ⎢-a₁⋅m⋅v_{21} - ────────\n",
       "⎣⎣                   2            2           2    ⎦  ⎣                   2   \n",
       "\n",
       " 2           2           2⎤⎤\n",
       "}    r⋅v_{21}    r⋅v_{22} ⎥⎥\n",
       "── + ───────── + ─────────⎥⎥\n",
       "         2           2    ⎦⎦"
      ]
     },
     "execution_count": 10,
     "metadata": {},
     "output_type": "execute_result"
    }
   ],
   "source": [
    "fj1 = solve(CE10, f1)\n",
    "fj2 = solve(CE20, f2)\n",
    "[fj1, fj2]"
   ]
  },
  {
   "cell_type": "code",
   "execution_count": 11,
   "metadata": {},
   "outputs": [
    {
     "data": {
      "text/latex": [
       "$\\displaystyle - f_{1} - f_{2} - m^{2} v_{11}^{2} - m^{2} v_{11} v_{21} - m^{2} v_{12} v_{22} - m^{2} v_{22}^{2} + m v_{11} + m v_{22}$"
      ],
      "text/plain": [
       "            2       2    2                  2                  2       2      \n",
       "-f₁ - f₂ - m ⋅v_{11}  - m ⋅v_{11}⋅v_{21} - m ⋅v_{12}⋅v_{22} - m ⋅v_{22}  + m⋅v\n",
       "\n",
       "                \n",
       "_{11} + m⋅v_{22}"
      ]
     },
     "execution_count": 11,
     "metadata": {},
     "output_type": "execute_result"
    }
   ],
   "source": [
    "Pi0 = Pi.subs([(f1, fj1), (f2, fj2), (a1, aj1), (a2, aj2)])\n",
    "Pi0"
   ]
  },
  {
   "cell_type": "code",
   "execution_count": null,
   "metadata": {},
   "outputs": [],
   "source": []
  },
  {
   "cell_type": "code",
   "execution_count": null,
   "metadata": {},
   "outputs": [],
   "source": []
  }
 ],
 "metadata": {
  "kernelspec": {
   "display_name": "Python 3",
   "language": "python",
   "name": "python3"
  },
  "language_info": {
   "codemirror_mode": {
    "name": "ipython",
    "version": 3
   },
   "file_extension": ".py",
   "mimetype": "text/x-python",
   "name": "python",
   "nbconvert_exporter": "python",
   "pygments_lexer": "ipython3",
   "version": "3.7.4"
  }
 },
 "nbformat": 4,
 "nbformat_minor": 4
}
